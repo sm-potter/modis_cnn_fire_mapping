{
 "cells": [
  {
   "cell_type": "markdown",
   "id": "7ab7ed55-becc-4709-8600-cc65fead86ee",
   "metadata": {},
   "source": [
    "This script will make it so all images are normalized the same by taking the global min and max per band and applying it to each image.  Essentially I need to find across all training data and training bands what is the minimum and maximum values so all images are normalized the same.  I do this to avoid tiling appearences when deploying the model "
   ]
  },
  {
   "cell_type": "code",
   "execution_count": 1,
   "id": "75aac32c-c9f5-40ee-9492-87f348991567",
   "metadata": {},
   "outputs": [],
   "source": [
    "import pandas as pd\n",
    "import numpy as np\n",
    "import os"
   ]
  },
  {
   "cell_type": "markdown",
   "id": "000ece67-14d7-4e1e-b84b-c9428ef63180",
   "metadata": {},
   "source": [
    "Function to get the the min-max globally but use the 5 and 95% cutoffs, I am not using this right now. "
   ]
  },
  {
   "cell_type": "code",
   "execution_count": 5,
   "id": "2cd494c1-4569-4f7e-b48a-3d01855109cd",
   "metadata": {},
   "outputs": [],
   "source": [
    "#function to get files from storage bucket\n",
    "def get_files(bucket_path):\n",
    "\n",
    "    \"\"\"argument is the path to where the numpy\n",
    "    save files are located, return a list of filenames\n",
    "    \"\"\"\n",
    "    all = []\n",
    "\n",
    "    #list of files\n",
    "    files = os.listdir(bucket_path)\n",
    "\n",
    "    #get list of filenames we will use, notte I remove images that don't have a target due to clouds\n",
    "    file_names = []\n",
    "    for f in files:\n",
    "        \n",
    "        if f.endswith('.npy'):\n",
    "\n",
    "\n",
    "            all.append(os.path.join(bucket_path, f))\n",
    "        \n",
    "    return all\n",
    "\n",
    "def minMax(x):\n",
    "    return pd.Series(index=['min','max'],data=[x.percentile(5),x.percentile(95)])\n"
   ]
  },
  {
   "cell_type": "markdown",
   "id": "b7785f6a-b25c-46ca-99c8-6408343bda9e",
   "metadata": {},
   "source": [
    "Apply the minMax function by looping through all data.  Note we have so much data I sample only 30% of it per image. "
   ]
  },
  {
   "cell_type": "code",
   "execution_count": 8,
   "id": "4aedbfa4-adc6-479e-9c85-b090da6b0cc6",
   "metadata": {},
   "outputs": [],
   "source": [
    "#path to training, validation and testing, note these paths can change\n",
    "nbac = get_files('/explore/nobackup/people/spotter5/cnn_mapping/nbac_training/modis_nbac_subs_0_16')\n",
    "mtbs = get_files('/explore/nobackup/people/spotter5/cnn_mapping/nbac_training/modis_mtbs_subs_0_16')\n",
    "\n",
    "\n",
    "final = []\n",
    "\n",
    "\n",
    "def get_min_max(pathways):\n",
    "    \n",
    "    \n",
    "    for f in pathways:\n",
    "\n",
    "        base = os.path.basename(f)\n",
    "\n",
    "        x = np.load(f)\n",
    "        x = x.astype(float)\n",
    "        x[x == 0] = np.nan\n",
    "        x[x == -999] = np.nan\n",
    "\n",
    "        #convert to dataframe\n",
    "        in_shape = x.shape\n",
    "\n",
    "        #turn to dataframe to normalize\n",
    "        x = x.reshape(x.shape[0] * x.shape[1], x.shape[2])\n",
    "    \n",
    "        #sample 30% per image\n",
    "        x = pd.DataFrame(x).dropna()#.sample(frac = 0.3)\n",
    "        final.append(x)\n",
    "        \n",
    "    return()\n",
    "\n",
    "get_min_max(nbac)\n",
    "get_min_max(mtbs)\n",
    "\n",
    "\n",
    "\n",
    "final4 = pd.concat(final).quantile([.01, .99])\n",
    "final4\n",
    "final4.reset_index().to_csv(\"/explore/nobackup/people/spotter5/cnn_mapping/nbac_training/modis_glob_norm.csv\", index = False)"
   ]
  },
  {
   "cell_type": "code",
   "execution_count": 9,
   "id": "8ab9fe11-ec40-41b3-abe3-9a8a9d2131f2",
   "metadata": {},
   "outputs": [
    {
     "data": {
      "text/html": [
       "<div>\n",
       "<style scoped>\n",
       "    .dataframe tbody tr th:only-of-type {\n",
       "        vertical-align: middle;\n",
       "    }\n",
       "\n",
       "    .dataframe tbody tr th {\n",
       "        vertical-align: top;\n",
       "    }\n",
       "\n",
       "    .dataframe thead th {\n",
       "        text-align: right;\n",
       "    }\n",
       "</style>\n",
       "<table border=\"1\" class=\"dataframe\">\n",
       "  <thead>\n",
       "    <tr style=\"text-align: right;\">\n",
       "      <th></th>\n",
       "      <th>0</th>\n",
       "      <th>1</th>\n",
       "      <th>2</th>\n",
       "      <th>3</th>\n",
       "      <th>4</th>\n",
       "      <th>5</th>\n",
       "      <th>6</th>\n",
       "      <th>7</th>\n",
       "      <th>8</th>\n",
       "      <th>9</th>\n",
       "      <th>10</th>\n",
       "    </tr>\n",
       "  </thead>\n",
       "  <tbody>\n",
       "    <tr>\n",
       "      <th>0.01</th>\n",
       "      <td>-239.0</td>\n",
       "      <td>-159.0</td>\n",
       "      <td>-137.0</td>\n",
       "      <td>-122.0</td>\n",
       "      <td>-269.0</td>\n",
       "      <td>-747.0</td>\n",
       "      <td>-954.0</td>\n",
       "      <td>12.0</td>\n",
       "      <td>-39.0</td>\n",
       "      <td>-26.0</td>\n",
       "      <td>1.0</td>\n",
       "    </tr>\n",
       "    <tr>\n",
       "      <th>0.99</th>\n",
       "      <td>245.0</td>\n",
       "      <td>1512.0</td>\n",
       "      <td>180.0</td>\n",
       "      <td>315.0</td>\n",
       "      <td>1414.0</td>\n",
       "      <td>506.0</td>\n",
       "      <td>46.0</td>\n",
       "      <td>784.0</td>\n",
       "      <td>347.0</td>\n",
       "      <td>503.0</td>\n",
       "      <td>1.0</td>\n",
       "    </tr>\n",
       "  </tbody>\n",
       "</table>\n",
       "</div>"
      ],
      "text/plain": [
       "         0       1      2      3       4      5      6      7      8      9    \n",
       "0.01 -239.0  -159.0 -137.0 -122.0  -269.0 -747.0 -954.0   12.0  -39.0  -26.0  \\\n",
       "0.99  245.0  1512.0  180.0  315.0  1414.0  506.0   46.0  784.0  347.0  503.0   \n",
       "\n",
       "       10  \n",
       "0.01  1.0  \n",
       "0.99  1.0  "
      ]
     },
     "execution_count": 9,
     "metadata": {},
     "output_type": "execute_result"
    }
   ],
   "source": [
    "final4"
   ]
  },
  {
   "cell_type": "code",
   "execution_count": null,
   "id": "9402fcc9-1a20-4a52-a88b-b552fb4b777f",
   "metadata": {},
   "outputs": [],
   "source": []
  }
 ],
 "metadata": {
  "kernelspec": {
   "display_name": "deeplearning3",
   "language": "python",
   "name": "deeplearning3"
  },
  "language_info": {
   "codemirror_mode": {
    "name": "ipython",
    "version": 3
   },
   "file_extension": ".py",
   "mimetype": "text/x-python",
   "name": "python",
   "nbconvert_exporter": "python",
   "pygments_lexer": "ipython3",
   "version": "3.10.11"
  }
 },
 "nbformat": 4,
 "nbformat_minor": 5
}
